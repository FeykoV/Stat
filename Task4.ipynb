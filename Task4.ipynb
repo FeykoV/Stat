{
 "cells": [
  {
   "cell_type": "code",
   "execution_count": 2,
   "metadata": {},
   "outputs": [],
   "source": [
    "import pandas as pd\n",
    "import numpy as np\n",
    "from math import factorial as fl\n",
    "import scipy.stats as st"
   ]
  },
  {
   "cell_type": "markdown",
   "metadata": {},
   "source": [
    "Задача 1.\n",
    "Случайная непрерывная величина A имеет равномерное распределение на промежутке (200, 800]. \n",
    "Найдите ее среднее значение и дисперсию. "
   ]
  },
  {
   "cell_type": "code",
   "execution_count": 4,
   "metadata": {},
   "outputs": [
    {
     "name": "stdout",
     "output_type": "stream",
     "text": [
      "Среднее значение = 500.00\n",
      "Дисперсия = 30000.00\n"
     ]
    }
   ],
   "source": [
    "MX = (200 + 800) / 2\n",
    "print(f'Среднее значение = {MX :.2f}')\n",
    "DX = (800 - 200) ** 2 / 12\n",
    "print(f'Дисперсия = {DX :.2f}')"
   ]
  },
  {
   "cell_type": "markdown",
   "metadata": {},
   "source": [
    "Задача 2.\n",
    "О случайной непрерывной равномерно распределенной величине B известно, что ее дисперсия равна 0.2.\n",
    "Можно ли найти правую границу величины B и ее среднее значение зная, что левая граница равна 0.5?\n",
    "Если да, найдите ее. "
   ]
  },
  {
   "cell_type": "code",
   "execution_count": 5,
   "metadata": {},
   "outputs": [
    {
     "data": {
      "text/plain": [
       "2.049193338482967"
      ]
     },
     "execution_count": 5,
     "metadata": {},
     "output_type": "execute_result"
    }
   ],
   "source": [
    "0.5 + np.sqrt(12 * 0.2)"
   ]
  },
  {
   "cell_type": "markdown",
   "metadata": {},
   "source": [
    "Задача 3.\n",
    "Непрерывная случайная величина X распределена нормально и задана плотностью распределения f(x) = (1 / (4 * sqrt(2pi))) * exp((-(x+2)**2) / 32)\n",
    "Найдите:\n",
    "а). M(X)\n",
    "б). D(X)\n",
    "в). std(X) (среднее квадратичное отклонение)"
   ]
  },
  {
   "cell_type": "code",
   "execution_count": 6,
   "metadata": {},
   "outputs": [
    {
     "name": "stdout",
     "output_type": "stream",
     "text": [
      "M(X) = -2.00\n"
     ]
    }
   ],
   "source": [
    "MX = -2\n",
    "print(f'M(X) = {MX :.2f}')"
   ]
  },
  {
   "cell_type": "code",
   "execution_count": 7,
   "metadata": {},
   "outputs": [
    {
     "name": "stdout",
     "output_type": "stream",
     "text": [
      "D(X) = 16.00\n"
     ]
    }
   ],
   "source": [
    "DX = 32 / 2\n",
    "print(f'D(X) = {DX :.2f}')"
   ]
  },
  {
   "cell_type": "code",
   "execution_count": 8,
   "metadata": {},
   "outputs": [
    {
     "name": "stdout",
     "output_type": "stream",
     "text": [
      "Cреднее квадратичное отклонение std(X) = 4.00\n"
     ]
    }
   ],
   "source": [
    "stdX = 4\n",
    "print(f'Cреднее квадратичное отклонение std(X) = {stdX :.2f}')"
   ]
  },
  {
   "cell_type": "markdown",
   "metadata": {},
   "source": [
    "Задача 4.\n",
    "Рост взрослого населения города X имеет нормальное распределение.\n",
    "Причем, средний рост равен 174 см, а среднее квадратичное отклонение равно 8 см.\n",
    "\n",
    "Какова вероятность того, что случайным образом выбранный взрослый человек имеет рост:\n",
    "а). больше 182 см\n",
    "б). больше 190 см\n",
    "в). от 166 см до 190 см\n",
    "г). от 166 см до 182 см\n",
    "д). от 158 см до 190 см\n",
    "е). не выше 150 см или не ниже 190 см\n",
    "ё). не выше 150 см или не ниже 198 см\n",
    "ж). ниже 166 см."
   ]
  },
  {
   "cell_type": "code",
   "execution_count": 10,
   "metadata": {},
   "outputs": [
    {
     "name": "stdout",
     "output_type": "stream",
     "text": [
      "Вероятность того, что случайным образом выбранный взрослый человек имеет рост больше 182 = 0.1587\n"
     ]
    }
   ],
   "source": [
    "hight = st.norm(loc=174, scale=8)\n",
    "P1 = 1 - hight.cdf(182)\n",
    "print(f'Вероятность того, что случайным образом выбранный взрослый человек имеет рост больше 182 = {P1 :.4f}')"
   ]
  },
  {
   "cell_type": "code",
   "execution_count": 12,
   "metadata": {},
   "outputs": [
    {
     "name": "stdout",
     "output_type": "stream",
     "text": [
      "Вероятность того, что случайным образом выбранный взрослый человек имеет рост больше 190 = 0.0228\n"
     ]
    }
   ],
   "source": [
    "P2 = 1 - hight.cdf(190)\n",
    "print(f'Вероятность того, что случайным образом выбранный взрослый человек имеет рост больше 190 = {P2 :.4f}')"
   ]
  },
  {
   "cell_type": "code",
   "execution_count": 13,
   "metadata": {},
   "outputs": [
    {
     "name": "stdout",
     "output_type": "stream",
     "text": [
      "Вероятность того, что случайным образом выбранный взрослый человек имеет рост от 166 см до 190 см = 0.8186\n"
     ]
    }
   ],
   "source": [
    "P3 = hight.cdf(190) - hight.cdf(166)\n",
    "print(f'Вероятность того, что случайным образом выбранный взрослый человек имеет рост от 166 см до 190 см = {P3 :.4f}')"
   ]
  },
  {
   "cell_type": "code",
   "execution_count": 14,
   "metadata": {},
   "outputs": [
    {
     "name": "stdout",
     "output_type": "stream",
     "text": [
      "Вероятность того, что случайным образом выбранный взрослый человек имеет рост от 166 см до 182 см = 0.6827\n"
     ]
    }
   ],
   "source": [
    "P4 = hight.cdf(182) - hight.cdf(166)\n",
    "print(f'Вероятность того, что случайным образом выбранный взрослый человек имеет рост от 166 см до 182 см = {P4 :.4f}')"
   ]
  },
  {
   "cell_type": "code",
   "execution_count": 15,
   "metadata": {},
   "outputs": [
    {
     "name": "stdout",
     "output_type": "stream",
     "text": [
      "Вероятность того, что случайным образом выбранный взрослый человек имеет рост от 158 см до 190 см = 0.9545\n"
     ]
    }
   ],
   "source": [
    "P5 = hight.cdf(190) - hight.cdf(158)\n",
    "print(f'Вероятность того, что случайным образом выбранный взрослый человек имеет рост от 158 см до 190 см = {P5 :.4f}')"
   ]
  },
  {
   "cell_type": "code",
   "execution_count": 16,
   "metadata": {},
   "outputs": [
    {
     "name": "stdout",
     "output_type": "stream",
     "text": [
      "Вероятность того, что случайным образом выбранный взрослый человек имеет рост не выше 150 см или не ниже 190 см = 0.0241\n"
     ]
    }
   ],
   "source": [
    "P6 = hight.cdf(150) + (1 - hight.cdf(190))\n",
    "print(f'Вероятность того, что случайным образом выбранный взрослый человек имеет рост не выше 150 см или не ниже 190 см = {P6 :.4f}')"
   ]
  },
  {
   "cell_type": "code",
   "execution_count": 17,
   "metadata": {},
   "outputs": [
    {
     "name": "stdout",
     "output_type": "stream",
     "text": [
      "Вероятность того, что случайным образом выбранный взрослый человек имеет рост не выше 150 см или не ниже 198 см = 0.0027\n"
     ]
    }
   ],
   "source": [
    "P7 = hight.cdf(150) + (1 - hight.cdf(198))\n",
    "print(f'Вероятность того, что случайным образом выбранный взрослый человек имеет рост не выше 150 см или не ниже 198 см = {P7 :.4f}')"
   ]
  },
  {
   "cell_type": "code",
   "execution_count": 18,
   "metadata": {},
   "outputs": [
    {
     "name": "stdout",
     "output_type": "stream",
     "text": [
      "Вероятность того, что случайным образом выбранный взрослый человек имеет рост ниже 166 см = 0.1587\n"
     ]
    }
   ],
   "source": [
    "P8 = hight.cdf(166)\n",
    "print(f'Вероятность того, что случайным образом выбранный взрослый человек имеет рост ниже 166 см = {P8 :.4f}')"
   ]
  },
  {
   "cell_type": "markdown",
   "metadata": {},
   "source": [
    "Задача 5.\n",
    "На сколько сигм (средних квадратичных отклонений) отклоняется рост человека, равный 190 см,\n",
    "от математического ожидания роста в популяции, в которой M(X) = 178 см и D(X) = 25 кв.см?"
   ]
  },
  {
   "cell_type": "code",
   "execution_count": 20,
   "metadata": {},
   "outputs": [
    {
     "name": "stdout",
     "output_type": "stream",
     "text": [
      "Рост отклоняется на 2.40 сигм\n"
     ]
    }
   ],
   "source": [
    "X = (190 - 178) / np.sqrt(25)\n",
    "print(f'Рост отклоняется на {X :.2f} сигм')"
   ]
  }
 ],
 "metadata": {
  "kernelspec": {
   "display_name": "Python 3",
   "language": "python",
   "name": "python3"
  },
  "language_info": {
   "codemirror_mode": {
    "name": "ipython",
    "version": 3
   },
   "file_extension": ".py",
   "mimetype": "text/x-python",
   "name": "python",
   "nbconvert_exporter": "python",
   "pygments_lexer": "ipython3",
   "version": "3.11.7"
  }
 },
 "nbformat": 4,
 "nbformat_minor": 2
}
